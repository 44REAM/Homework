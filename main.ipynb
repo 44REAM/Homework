{
 "cells": [
  {
   "cell_type": "code",
   "execution_count": 1,
   "metadata": {},
   "outputs": [],
   "source": [
    "%load_ext autoreload\n",
    "%autoreload 2\n"
   ]
  },
  {
   "cell_type": "code",
   "execution_count": 2,
   "metadata": {},
   "outputs": [],
   "source": [
    "import sys\n",
    "import os\n",
    "sys.path.append('..')\n",
    "\n",
    "import torch\n",
    "import optuna\n",
    "import pytorch_lightning as pl\n",
    "\n",
    "from radianet import get_dataloader\n",
    "from radianet.datasets import SampleDataset2D, LIDCDataset, Transforms\n",
    "from radianet.config import Config\n",
    "from radianet.models import Simple3DCNN, MyEfficientNet\n",
    "from radianet.callbacks import MetricsCallback\n",
    "from radianet.lightningnet import LightningNet\n"
   ]
  },
  {
   "cell_type": "code",
   "execution_count": 3,
   "metadata": {},
   "outputs": [
    {
     "name": "stderr",
     "output_type": "stream",
     "text": [
      "[I 2020-05-12 13:04:06,734] A new study created with name: test_chechpoint\n",
      "INFO:lightning:GPU available: True, used: False\n"
     ]
    },
    {
     "name": "stdout",
     "output_type": "stream",
     "text": [
      "Loaded pretrained weights for efficientnet-b0\n",
      "before git\n",
      "linear input not have been calculate\n"
     ]
    },
    {
     "name": "stderr",
     "output_type": "stream",
     "text": [
      "INFO:lightning:\n",
      "    | Name                                                 | Type                    | Params\n",
      "---------------------------------------------------------------------------------------------\n",
      "0   | model                                                | MyEfficientNet          | 5 M   \n",
      "1   | model.head                                           | Sequential              | 928   \n",
      "2   | model.head.0                                         | Conv2dStaticSamePadding | 864   \n",
      "3   | model.head.0.static_padding                          | ZeroPad2d               | 0     \n",
      "4   | model.head.1                                         | BatchNorm2d             | 64    \n",
      "5   | model.body_no_grad                                   | Sequential              | 2 M   \n",
      "6   | model.body_no_grad.0                                 | MBConvBlock             | 1 K   \n",
      "7   | model.body_no_grad.0._depthwise_conv                 | Conv2dStaticSamePadding | 288   \n",
      "8   | model.body_no_grad.0._depthwise_conv.static_padding  | ZeroPad2d               | 0     \n",
      "9   | model.body_no_grad.0._bn1                            | BatchNorm2d             | 64    \n",
      "10  | model.body_no_grad.0._se_reduce                      | Conv2dStaticSamePadding | 264   \n",
      "11  | model.body_no_grad.0._se_reduce.static_padding       | Identity                | 0     \n",
      "12  | model.body_no_grad.0._se_expand                      | Conv2dStaticSamePadding | 288   \n",
      "13  | model.body_no_grad.0._se_expand.static_padding       | Identity                | 0     \n",
      "14  | model.body_no_grad.0._project_conv                   | Conv2dStaticSamePadding | 512   \n",
      "15  | model.body_no_grad.0._project_conv.static_padding    | Identity                | 0     \n",
      "16  | model.body_no_grad.0._bn2                            | BatchNorm2d             | 32    \n",
      "17  | model.body_no_grad.0._swish                          | MemoryEfficientSwish    | 0     \n",
      "18  | model.body_no_grad.1                                 | MBConvBlock             | 6 K   \n",
      "19  | model.body_no_grad.1._expand_conv                    | Conv2dStaticSamePadding | 1 K   \n",
      "20  | model.body_no_grad.1._expand_conv.static_padding     | Identity                | 0     \n",
      "21  | model.body_no_grad.1._bn0                            | BatchNorm2d             | 192   \n",
      "22  | model.body_no_grad.1._depthwise_conv                 | Conv2dStaticSamePadding | 864   \n",
      "23  | model.body_no_grad.1._depthwise_conv.static_padding  | ZeroPad2d               | 0     \n",
      "24  | model.body_no_grad.1._bn1                            | BatchNorm2d             | 192   \n",
      "25  | model.body_no_grad.1._se_reduce                      | Conv2dStaticSamePadding | 388   \n",
      "26  | model.body_no_grad.1._se_reduce.static_padding       | Identity                | 0     \n",
      "27  | model.body_no_grad.1._se_expand                      | Conv2dStaticSamePadding | 480   \n",
      "28  | model.body_no_grad.1._se_expand.static_padding       | Identity                | 0     \n",
      "29  | model.body_no_grad.1._project_conv                   | Conv2dStaticSamePadding | 2 K   \n",
      "30  | model.body_no_grad.1._project_conv.static_padding    | Identity                | 0     \n",
      "31  | model.body_no_grad.1._bn2                            | BatchNorm2d             | 48    \n",
      "32  | model.body_no_grad.1._swish                          | MemoryEfficientSwish    | 0     \n",
      "33  | model.body_no_grad.2                                 | MBConvBlock             | 10 K  \n",
      "34  | model.body_no_grad.2._expand_conv                    | Conv2dStaticSamePadding | 3 K   \n",
      "35  | model.body_no_grad.2._expand_conv.static_padding     | Identity                | 0     \n",
      "36  | model.body_no_grad.2._bn0                            | BatchNorm2d             | 288   \n",
      "37  | model.body_no_grad.2._depthwise_conv                 | Conv2dStaticSamePadding | 1 K   \n",
      "38  | model.body_no_grad.2._depthwise_conv.static_padding  | ZeroPad2d               | 0     \n",
      "39  | model.body_no_grad.2._bn1                            | BatchNorm2d             | 288   \n",
      "40  | model.body_no_grad.2._se_reduce                      | Conv2dStaticSamePadding | 870   \n",
      "41  | model.body_no_grad.2._se_reduce.static_padding       | Identity                | 0     \n",
      "42  | model.body_no_grad.2._se_expand                      | Conv2dStaticSamePadding | 1 K   \n",
      "43  | model.body_no_grad.2._se_expand.static_padding       | Identity                | 0     \n",
      "44  | model.body_no_grad.2._project_conv                   | Conv2dStaticSamePadding | 3 K   \n",
      "45  | model.body_no_grad.2._project_conv.static_padding    | Identity                | 0     \n",
      "46  | model.body_no_grad.2._bn2                            | BatchNorm2d             | 48    \n",
      "47  | model.body_no_grad.2._swish                          | MemoryEfficientSwish    | 0     \n",
      "48  | model.body_no_grad.3                                 | MBConvBlock             | 15 K  \n",
      "49  | model.body_no_grad.3._expand_conv                    | Conv2dStaticSamePadding | 3 K   \n",
      "50  | model.body_no_grad.3._expand_conv.static_padding     | Identity                | 0     \n",
      "51  | model.body_no_grad.3._bn0                            | BatchNorm2d             | 288   \n",
      "52  | model.body_no_grad.3._depthwise_conv                 | Conv2dStaticSamePadding | 3 K   \n",
      "53  | model.body_no_grad.3._depthwise_conv.static_padding  | ZeroPad2d               | 0     \n",
      "54  | model.body_no_grad.3._bn1                            | BatchNorm2d             | 288   \n",
      "55  | model.body_no_grad.3._se_reduce                      | Conv2dStaticSamePadding | 870   \n",
      "56  | model.body_no_grad.3._se_reduce.static_padding       | Identity                | 0     \n",
      "57  | model.body_no_grad.3._se_expand                      | Conv2dStaticSamePadding | 1 K   \n",
      "58  | model.body_no_grad.3._se_expand.static_padding       | Identity                | 0     \n",
      "59  | model.body_no_grad.3._project_conv                   | Conv2dStaticSamePadding | 5 K   \n",
      "60  | model.body_no_grad.3._project_conv.static_padding    | Identity                | 0     \n",
      "61  | model.body_no_grad.3._bn2                            | BatchNorm2d             | 80    \n",
      "62  | model.body_no_grad.3._swish                          | MemoryEfficientSwish    | 0     \n",
      "63  | model.body_no_grad.4                                 | MBConvBlock             | 31 K  \n",
      "64  | model.body_no_grad.4._expand_conv                    | Conv2dStaticSamePadding | 9 K   \n",
      "65  | model.body_no_grad.4._expand_conv.static_padding     | Identity                | 0     \n",
      "66  | model.body_no_grad.4._bn0                            | BatchNorm2d             | 480   \n",
      "67  | model.body_no_grad.4._depthwise_conv                 | Conv2dStaticSamePadding | 6 K   \n",
      "68  | model.body_no_grad.4._depthwise_conv.static_padding  | ZeroPad2d               | 0     \n",
      "69  | model.body_no_grad.4._bn1                            | BatchNorm2d             | 480   \n",
      "70  | model.body_no_grad.4._se_reduce                      | Conv2dStaticSamePadding | 2 K   \n",
      "71  | model.body_no_grad.4._se_reduce.static_padding       | Identity                | 0     \n",
      "72  | model.body_no_grad.4._se_expand                      | Conv2dStaticSamePadding | 2 K   \n",
      "73  | model.body_no_grad.4._se_expand.static_padding       | Identity                | 0     \n",
      "74  | model.body_no_grad.4._project_conv                   | Conv2dStaticSamePadding | 9 K   \n",
      "75  | model.body_no_grad.4._project_conv.static_padding    | Identity                | 0     \n",
      "76  | model.body_no_grad.4._bn2                            | BatchNorm2d             | 80    \n",
      "77  | model.body_no_grad.4._swish                          | MemoryEfficientSwish    | 0     \n",
      "78  | model.body_no_grad.5                                 | MBConvBlock             | 37 K  \n",
      "79  | model.body_no_grad.5._expand_conv                    | Conv2dStaticSamePadding | 9 K   \n",
      "80  | model.body_no_grad.5._expand_conv.static_padding     | Identity                | 0     \n",
      "81  | model.body_no_grad.5._bn0                            | BatchNorm2d             | 480   \n",
      "82  | model.body_no_grad.5._depthwise_conv                 | Conv2dStaticSamePadding | 2 K   \n",
      "83  | model.body_no_grad.5._depthwise_conv.static_padding  | ZeroPad2d               | 0     \n",
      "84  | model.body_no_grad.5._bn1                            | BatchNorm2d             | 480   \n",
      "85  | model.body_no_grad.5._se_reduce                      | Conv2dStaticSamePadding | 2 K   \n",
      "86  | model.body_no_grad.5._se_reduce.static_padding       | Identity                | 0     \n",
      "87  | model.body_no_grad.5._se_expand                      | Conv2dStaticSamePadding | 2 K   \n",
      "88  | model.body_no_grad.5._se_expand.static_padding       | Identity                | 0     \n",
      "89  | model.body_no_grad.5._project_conv                   | Conv2dStaticSamePadding | 19 K  \n",
      "90  | model.body_no_grad.5._project_conv.static_padding    | Identity                | 0     \n",
      "91  | model.body_no_grad.5._bn2                            | BatchNorm2d             | 160   \n",
      "92  | model.body_no_grad.5._swish                          | MemoryEfficientSwish    | 0     \n",
      "93  | model.body_no_grad.6                                 | MBConvBlock             | 102 K \n",
      "94  | model.body_no_grad.6._expand_conv                    | Conv2dStaticSamePadding | 38 K  \n",
      "95  | model.body_no_grad.6._expand_conv.static_padding     | Identity                | 0     \n",
      "96  | model.body_no_grad.6._bn0                            | BatchNorm2d             | 960   \n",
      "97  | model.body_no_grad.6._depthwise_conv                 | Conv2dStaticSamePadding | 4 K   \n",
      "98  | model.body_no_grad.6._depthwise_conv.static_padding  | ZeroPad2d               | 0     \n",
      "99  | model.body_no_grad.6._bn1                            | BatchNorm2d             | 960   \n",
      "100 | model.body_no_grad.6._se_reduce                      | Conv2dStaticSamePadding | 9 K   \n",
      "101 | model.body_no_grad.6._se_reduce.static_padding       | Identity                | 0     \n",
      "102 | model.body_no_grad.6._se_expand                      | Conv2dStaticSamePadding | 10 K  \n",
      "103 | model.body_no_grad.6._se_expand.static_padding       | Identity                | 0     \n",
      "104 | model.body_no_grad.6._project_conv                   | Conv2dStaticSamePadding | 38 K  \n",
      "105 | model.body_no_grad.6._project_conv.static_padding    | Identity                | 0     \n",
      "106 | model.body_no_grad.6._bn2                            | BatchNorm2d             | 160   \n",
      "107 | model.body_no_grad.6._swish                          | MemoryEfficientSwish    | 0     \n",
      "108 | model.body_no_grad.7                                 | MBConvBlock             | 102 K \n",
      "109 | model.body_no_grad.7._expand_conv                    | Conv2dStaticSamePadding | 38 K  \n",
      "110 | model.body_no_grad.7._expand_conv.static_padding     | Identity                | 0     \n",
      "111 | model.body_no_grad.7._bn0                            | BatchNorm2d             | 960   \n",
      "112 | model.body_no_grad.7._depthwise_conv                 | Conv2dStaticSamePadding | 4 K   \n",
      "113 | model.body_no_grad.7._depthwise_conv.static_padding  | ZeroPad2d               | 0     \n",
      "114 | model.body_no_grad.7._bn1                            | BatchNorm2d             | 960   \n",
      "115 | model.body_no_grad.7._se_reduce                      | Conv2dStaticSamePadding | 9 K   \n",
      "116 | model.body_no_grad.7._se_reduce.static_padding       | Identity                | 0     \n",
      "117 | model.body_no_grad.7._se_expand                      | Conv2dStaticSamePadding | 10 K  \n",
      "118 | model.body_no_grad.7._se_expand.static_padding       | Identity                | 0     \n",
      "119 | model.body_no_grad.7._project_conv                   | Conv2dStaticSamePadding | 38 K  \n",
      "120 | model.body_no_grad.7._project_conv.static_padding    | Identity                | 0     \n",
      "121 | model.body_no_grad.7._bn2                            | BatchNorm2d             | 160   \n",
      "122 | model.body_no_grad.7._swish                          | MemoryEfficientSwish    | 0     \n",
      "123 | model.body_no_grad.8                                 | MBConvBlock             | 126 K \n",
      "124 | model.body_no_grad.8._expand_conv                    | Conv2dStaticSamePadding | 38 K  \n",
      "125 | model.body_no_grad.8._expand_conv.static_padding     | Identity                | 0     \n",
      "126 | model.body_no_grad.8._bn0                            | BatchNorm2d             | 960   \n",
      "127 | model.body_no_grad.8._depthwise_conv                 | Conv2dStaticSamePadding | 12 K  \n",
      "128 | model.body_no_grad.8._depthwise_conv.static_padding  | ZeroPad2d               | 0     \n",
      "129 | model.body_no_grad.8._bn1                            | BatchNorm2d             | 960   \n",
      "130 | model.body_no_grad.8._se_reduce                      | Conv2dStaticSamePadding | 9 K   \n",
      "131 | model.body_no_grad.8._se_reduce.static_padding       | Identity                | 0     \n",
      "132 | model.body_no_grad.8._se_expand                      | Conv2dStaticSamePadding | 10 K  \n",
      "133 | model.body_no_grad.8._se_expand.static_padding       | Identity                | 0     \n",
      "134 | model.body_no_grad.8._project_conv                   | Conv2dStaticSamePadding | 53 K  \n",
      "135 | model.body_no_grad.8._project_conv.static_padding    | Identity                | 0     \n",
      "136 | model.body_no_grad.8._bn2                            | BatchNorm2d             | 224   \n",
      "137 | model.body_no_grad.8._swish                          | MemoryEfficientSwish    | 0     \n",
      "138 | model.body_no_grad.9                                 | MBConvBlock             | 208 K \n",
      "139 | model.body_no_grad.9._expand_conv                    | Conv2dStaticSamePadding | 75 K  \n",
      "140 | model.body_no_grad.9._expand_conv.static_padding     | Identity                | 0     \n",
      "141 | model.body_no_grad.9._bn0                            | BatchNorm2d             | 1 K   \n",
      "142 | model.body_no_grad.9._depthwise_conv                 | Conv2dStaticSamePadding | 16 K  \n",
      "143 | model.body_no_grad.9._depthwise_conv.static_padding  | ZeroPad2d               | 0     \n",
      "144 | model.body_no_grad.9._bn1                            | BatchNorm2d             | 1 K   \n",
      "145 | model.body_no_grad.9._se_reduce                      | Conv2dStaticSamePadding | 18 K  \n",
      "146 | model.body_no_grad.9._se_reduce.static_padding       | Identity                | 0     \n",
      "147 | model.body_no_grad.9._se_expand                      | Conv2dStaticSamePadding | 19 K  \n",
      "148 | model.body_no_grad.9._se_expand.static_padding       | Identity                | 0     \n",
      "149 | model.body_no_grad.9._project_conv                   | Conv2dStaticSamePadding | 75 K  \n",
      "150 | model.body_no_grad.9._project_conv.static_padding    | Identity                | 0     \n",
      "151 | model.body_no_grad.9._bn2                            | BatchNorm2d             | 224   \n",
      "152 | model.body_no_grad.9._swish                          | MemoryEfficientSwish    | 0     \n",
      "153 | model.body_no_grad.10                                | MBConvBlock             | 208 K \n",
      "154 | model.body_no_grad.10._expand_conv                   | Conv2dStaticSamePadding | 75 K  \n",
      "155 | model.body_no_grad.10._expand_conv.static_padding    | Identity                | 0     \n",
      "156 | model.body_no_grad.10._bn0                           | BatchNorm2d             | 1 K   \n",
      "157 | model.body_no_grad.10._depthwise_conv                | Conv2dStaticSamePadding | 16 K  \n",
      "158 | model.body_no_grad.10._depthwise_conv.static_padding | ZeroPad2d               | 0     \n",
      "159 | model.body_no_grad.10._bn1                           | BatchNorm2d             | 1 K   \n",
      "160 | model.body_no_grad.10._se_reduce                     | Conv2dStaticSamePadding | 18 K  \n",
      "161 | model.body_no_grad.10._se_reduce.static_padding      | Identity                | 0     \n",
      "162 | model.body_no_grad.10._se_expand                     | Conv2dStaticSamePadding | 19 K  \n",
      "163 | model.body_no_grad.10._se_expand.static_padding      | Identity                | 0     \n",
      "164 | model.body_no_grad.10._project_conv                  | Conv2dStaticSamePadding | 75 K  \n",
      "165 | model.body_no_grad.10._project_conv.static_padding   | Identity                | 0     \n",
      "166 | model.body_no_grad.10._bn2                           | BatchNorm2d             | 224   \n",
      "167 | model.body_no_grad.10._swish                         | MemoryEfficientSwish    | 0     \n",
      "168 | model.body_no_grad.11                                | MBConvBlock             | 262 K \n",
      "169 | model.body_no_grad.11._expand_conv                   | Conv2dStaticSamePadding | 75 K  \n",
      "170 | model.body_no_grad.11._expand_conv.static_padding    | Identity                | 0     \n",
      "171 | model.body_no_grad.11._bn0                           | BatchNorm2d             | 1 K   \n",
      "172 | model.body_no_grad.11._depthwise_conv                | Conv2dStaticSamePadding | 16 K  \n",
      "173 | model.body_no_grad.11._depthwise_conv.static_padding | ZeroPad2d               | 0     \n",
      "174 | model.body_no_grad.11._bn1                           | BatchNorm2d             | 1 K   \n",
      "175 | model.body_no_grad.11._se_reduce                     | Conv2dStaticSamePadding | 18 K  \n",
      "176 | model.body_no_grad.11._se_reduce.static_padding      | Identity                | 0     \n",
      "177 | model.body_no_grad.11._se_expand                     | Conv2dStaticSamePadding | 19 K  \n",
      "178 | model.body_no_grad.11._se_expand.static_padding      | Identity                | 0     \n",
      "179 | model.body_no_grad.11._project_conv                  | Conv2dStaticSamePadding | 129 K \n",
      "180 | model.body_no_grad.11._project_conv.static_padding   | Identity                | 0     \n",
      "181 | model.body_no_grad.11._bn2                           | BatchNorm2d             | 384   \n",
      "182 | model.body_no_grad.11._swish                         | MemoryEfficientSwish    | 0     \n",
      "183 | model.body_no_grad.12                                | MBConvBlock             | 587 K \n",
      "184 | model.body_no_grad.12._expand_conv                   | Conv2dStaticSamePadding | 221 K \n",
      "185 | model.body_no_grad.12._expand_conv.static_padding    | Identity                | 0     \n",
      "186 | model.body_no_grad.12._bn0                           | BatchNorm2d             | 2 K   \n",
      "187 | model.body_no_grad.12._depthwise_conv                | Conv2dStaticSamePadding | 28 K  \n",
      "188 | model.body_no_grad.12._depthwise_conv.static_padding | ZeroPad2d               | 0     \n",
      "189 | model.body_no_grad.12._bn1                           | BatchNorm2d             | 2 K   \n",
      "190 | model.body_no_grad.12._se_reduce                     | Conv2dStaticSamePadding | 55 K  \n",
      "191 | model.body_no_grad.12._se_reduce.static_padding      | Identity                | 0     \n",
      "192 | model.body_no_grad.12._se_expand                     | Conv2dStaticSamePadding | 56 K  \n",
      "193 | model.body_no_grad.12._se_expand.static_padding      | Identity                | 0     \n",
      "194 | model.body_no_grad.12._project_conv                  | Conv2dStaticSamePadding | 221 K \n",
      "195 | model.body_no_grad.12._project_conv.static_padding   | Identity                | 0     \n",
      "196 | model.body_no_grad.12._bn2                           | BatchNorm2d             | 384   \n",
      "197 | model.body_no_grad.12._swish                         | MemoryEfficientSwish    | 0     \n",
      "198 | model.body_no_grad.13                                | MBConvBlock             | 587 K \n",
      "199 | model.body_no_grad.13._expand_conv                   | Conv2dStaticSamePadding | 221 K \n",
      "200 | model.body_no_grad.13._expand_conv.static_padding    | Identity                | 0     \n",
      "201 | model.body_no_grad.13._bn0                           | BatchNorm2d             | 2 K   \n",
      "202 | model.body_no_grad.13._depthwise_conv                | Conv2dStaticSamePadding | 28 K  \n",
      "203 | model.body_no_grad.13._depthwise_conv.static_padding | ZeroPad2d               | 0     \n",
      "204 | model.body_no_grad.13._bn1                           | BatchNorm2d             | 2 K   \n",
      "205 | model.body_no_grad.13._se_reduce                     | Conv2dStaticSamePadding | 55 K  \n",
      "206 | model.body_no_grad.13._se_reduce.static_padding      | Identity                | 0     \n",
      "207 | model.body_no_grad.13._se_expand                     | Conv2dStaticSamePadding | 56 K  \n",
      "208 | model.body_no_grad.13._se_expand.static_padding      | Identity                | 0     \n",
      "209 | model.body_no_grad.13._project_conv                  | Conv2dStaticSamePadding | 221 K \n",
      "210 | model.body_no_grad.13._project_conv.static_padding   | Identity                | 0     \n",
      "211 | model.body_no_grad.13._bn2                           | BatchNorm2d             | 384   \n",
      "212 | model.body_no_grad.13._swish                         | MemoryEfficientSwish    | 0     \n",
      "213 | model.body_no_grad.14                                | MBConvBlock             | 587 K \n",
      "214 | model.body_no_grad.14._expand_conv                   | Conv2dStaticSamePadding | 221 K \n",
      "215 | model.body_no_grad.14._expand_conv.static_padding    | Identity                | 0     \n",
      "216 | model.body_no_grad.14._bn0                           | BatchNorm2d             | 2 K   \n",
      "217 | model.body_no_grad.14._depthwise_conv                | Conv2dStaticSamePadding | 28 K  \n",
      "218 | model.body_no_grad.14._depthwise_conv.static_padding | ZeroPad2d               | 0     \n",
      "219 | model.body_no_grad.14._bn1                           | BatchNorm2d             | 2 K   \n",
      "220 | model.body_no_grad.14._se_reduce                     | Conv2dStaticSamePadding | 55 K  \n",
      "221 | model.body_no_grad.14._se_reduce.static_padding      | Identity                | 0     \n",
      "222 | model.body_no_grad.14._se_expand                     | Conv2dStaticSamePadding | 56 K  \n",
      "223 | model.body_no_grad.14._se_expand.static_padding      | Identity                | 0     \n",
      "224 | model.body_no_grad.14._project_conv                  | Conv2dStaticSamePadding | 221 K \n",
      "225 | model.body_no_grad.14._project_conv.static_padding   | Identity                | 0     \n",
      "226 | model.body_no_grad.14._bn2                           | BatchNorm2d             | 384   \n",
      "227 | model.body_no_grad.14._swish                         | MemoryEfficientSwish    | 0     \n",
      "228 | model.body_grad                                      | Sequential              | 717 K \n",
      "229 | model.body_grad.0                                    | MBConvBlock             | 717 K \n",
      "230 | model.body_grad.0._expand_conv                       | Conv2dStaticSamePadding | 221 K \n",
      "231 | model.body_grad.0._expand_conv.static_padding        | Identity                | 0     \n",
      "232 | model.body_grad.0._bn0                               | BatchNorm2d             | 2 K   \n",
      "233 | model.body_grad.0._depthwise_conv                    | Conv2dStaticSamePadding | 10 K  \n",
      "234 | model.body_grad.0._depthwise_conv.static_padding     | ZeroPad2d               | 0     \n",
      "235 | model.body_grad.0._bn1                               | BatchNorm2d             | 2 K   \n",
      "236 | model.body_grad.0._se_reduce                         | Conv2dStaticSamePadding | 55 K  \n",
      "237 | model.body_grad.0._se_reduce.static_padding          | Identity                | 0     \n",
      "238 | model.body_grad.0._se_expand                         | Conv2dStaticSamePadding | 56 K  \n",
      "239 | model.body_grad.0._se_expand.static_padding          | Identity                | 0     \n",
      "240 | model.body_grad.0._project_conv                      | Conv2dStaticSamePadding | 368 K \n",
      "241 | model.body_grad.0._project_conv.static_padding       | Identity                | 0     \n",
      "242 | model.body_grad.0._bn2                               | BatchNorm2d             | 640   \n",
      "243 | model.body_grad.0._swish                             | MemoryEfficientSwish    | 0     \n",
      "244 | model.bottom_1                                       | Sequential              | 412 K \n",
      "245 | model.bottom_1.0                                     | Conv2dStaticSamePadding | 409 K \n",
      "246 | model.bottom_1.0.static_padding                      | Identity                | 0     \n",
      "247 | model.bottom_1.1                                     | BatchNorm2d             | 2 K   \n",
      "248 | model.bottom_1.2                                     | AdaptiveAvgPool2d       | 0     \n",
      "249 | model.bottom_1.3                                     | Dropout                 | 0     \n",
      "250 | model.bottom_2                                       | Sequential              | 1 M   \n",
      "251 | model.bottom_2.0                                     | Linear                  | 1 M   \n",
      "252 | model.bottom_2.1                                     | MemoryEfficientSwish    | 0     \n",
      "253 | model.linear_block1                                  | Sequential              | 1 K   \n",
      "254 | model.linear_block1.0                                | Linear                  | 1 K   \n",
      "255 | model.linear_block1.1                                | Sigmoid                 | 0     \n"
     ]
    },
    {
     "data": {
      "application/vnd.jupyter.widget-view+json": {
       "model_id": "9ad035d43d974d6fac54ca8bf5aeed65",
       "version_major": 2,
       "version_minor": 0
      },
      "text/plain": [
       "HBox(children=(FloatProgress(value=1.0, bar_style='info', description='Validation sanity check', layout=Layout…"
      ]
     },
     "metadata": {},
     "output_type": "display_data"
    },
    {
     "name": "stdout",
     "output_type": "stream",
     "text": [
      "torch.Size([2, 1])\n",
      "\r"
     ]
    },
    {
     "data": {
      "application/vnd.jupyter.widget-view+json": {
       "model_id": "bcab7ca216144973a7adb937a797d4ec",
       "version_major": 2,
       "version_minor": 0
      },
      "text/plain": [
       "HBox(children=(FloatProgress(value=1.0, bar_style='info', description='Training', layout=Layout(flex='2'), max…"
      ]
     },
     "metadata": {},
     "output_type": "display_data"
    },
    {
     "name": "stdout",
     "output_type": "stream",
     "text": [
      "torch.Size([2, 1])\n"
     ]
    },
    {
     "name": "stderr",
     "output_type": "stream",
     "text": [
      "..\\radianet\\lightningnet.py:49: UserWarning: Using a target size (torch.Size([2])) that is different to the input size (torch.Size([2, 1])) is deprecated. Please ensure they have the same size.\n",
      "  return {\"loss\": F.binary_cross_entropy(output, target)}\n"
     ]
    },
    {
     "name": "stdout",
     "output_type": "stream",
     "text": [
      "torch.Size([2, 1])\n",
      "torch.Size([2, 1])\n",
      "torch.Size([2, 1])\n"
     ]
    },
    {
     "data": {
      "application/vnd.jupyter.widget-view+json": {
       "model_id": "bb5dcfc9cda94a77a79ab837df7bb206",
       "version_major": 2,
       "version_minor": 0
      },
      "text/plain": [
       "HBox(children=(FloatProgress(value=1.0, bar_style='info', description='Validating', layout=Layout(flex='2'), m…"
      ]
     },
     "metadata": {},
     "output_type": "display_data"
    },
    {
     "name": "stdout",
     "output_type": "stream",
     "text": [
      "torch.Size([2, 1])\n",
      "torch.Size([2, 1])\n",
      "torch.Size([2, 1])\n",
      "torch.Size([2, 1])\n",
      "torch.Size([2, 1])\n"
     ]
    },
    {
     "data": {
      "application/vnd.jupyter.widget-view+json": {
       "model_id": "0c5f92a18f1c4f2bb4dcd0abe3156bfa",
       "version_major": 2,
       "version_minor": 0
      },
      "text/plain": [
       "HBox(children=(FloatProgress(value=1.0, bar_style='info', description='Validating', layout=Layout(flex='2'), m…"
      ]
     },
     "metadata": {},
     "output_type": "display_data"
    },
    {
     "name": "stdout",
     "output_type": "stream",
     "text": [
      "torch.Size([2, 1])\n",
      "\n",
      "here\n"
     ]
    },
    {
     "name": "stderr",
     "output_type": "stream",
     "text": [
      "[I 2020-05-12 13:04:22,788] Finished trial#0 with value: 0.3460502028465271 with parameters: {'lr': 0.0005505348325043929}. Best is trial#0 with value: 0.3460502028465271.\n"
     ]
    }
   ],
   "source": [
    "\n",
    "\n",
    "def objective(trial):\n",
    "    \n",
    "    checkpoint_callback = pl.callbacks.ModelCheckpoint(\n",
    "        os.path.join(Config.MODEL_DIR, \"trial_{}\".format(trial.number), \"{epoch}\"), \n",
    "        monitor=\"val_loss\", save_top_k = -1\n",
    "    )\n",
    "    \n",
    "    metrics_callback = MetricsCallback()\n",
    "\n",
    "    trainer = pl.Trainer(\n",
    "        logger=False,\n",
    "        max_epochs=Config.EPOCHS,\n",
    "        checkpoint_callback=checkpoint_callback,\n",
    "        callbacks=[metrics_callback],\n",
    "        gpus=0 if torch.cuda.is_available() else None\n",
    "    )\n",
    "    \n",
    "    transforms = Transforms()\n",
    "    #datasets = LIDCDataset(transforms, Config.LIDC_PATH)\n",
    "    datasets = SampleDataset2D(transforms, n_sample = 10)\n",
    "    dataloader = get_dataloader(datasets, Config.BATCHSIZE)\n",
    "\n",
    "    lightning_model = LightningNet(trial, Config, MyEfficientNet, dataloader)\n",
    "    print(\"before git\")\n",
    "    trainer.fit(lightning_model)\n",
    "    \n",
    "    print(\"here\")\n",
    "    return metrics_callback.metrics[-1][\"val_loss\"]\n",
    "\n",
    "study = optuna.create_study(study_name = Config.NAME, storage = Config.DB_NAME, load_if_exists = True)\n",
    "study.optimize(objective, n_trials= Config.N_TRIALS)\n"
   ]
  },
  {
   "cell_type": "code",
   "execution_count": null,
   "metadata": {},
   "outputs": [],
   "source": [
    "print(\"Number of finished trials: {}\".format(len(study.trials)))\n",
    "\n",
    "print(\"Best trial:\")\n",
    "trial = study.best_trial\n",
    "\n",
    "print(\"  Value: {}\".format(trial.value))\n",
    "print(\"  Params: \")\n",
    "for key, value in trial.params.items():\n",
    "    print(\"    {}: {}\".format(key, value))"
   ]
  },
  {
   "cell_type": "code",
   "execution_count": null,
   "metadata": {},
   "outputs": [],
   "source": []
  }
 ],
 "metadata": {
  "kernelspec": {
   "display_name": "Python 3",
   "language": "python",
   "name": "python3"
  },
  "language_info": {
   "codemirror_mode": {
    "name": "ipython",
    "version": 3
   },
   "file_extension": ".py",
   "mimetype": "text/x-python",
   "name": "python",
   "nbconvert_exporter": "python",
   "pygments_lexer": "ipython3",
   "version": "3.7.6"
  }
 },
 "nbformat": 4,
 "nbformat_minor": 4
}
