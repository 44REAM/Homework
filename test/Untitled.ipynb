{
 "cells": [
  {
   "cell_type": "code",
   "execution_count": 28,
   "metadata": {},
   "outputs": [],
   "source": [
    "import pandas as pd\n",
    "import numpy as np\n",
    "\n",
    "class LIDCDataset():\n",
    "    def __init__(self, n_sample = 100, channels = 1, width = 64, height = 64, deep = 12):\n",
    "        self.data = np.random.randn(n_sample, channels, width, height, deep).astype(np.float32)\n",
    "        self.label = np.array([np.random.randint(0, 2) for x in range(n_sample) ]).astype(np.float32)\n",
    "\n",
    "\n",
    "    def get_data(self, idx):\n",
    "        idx = int(idx)\n",
    "        return self.data[idx]\n",
    "\n",
    "def get_lidc_label(path, label_type = None):\n",
    "    # path to csv file\n",
    "    df = pd.read_csv(path)\n",
    "\n",
    "    df = df[df.Diagnosis != 0]\n",
    "    \n",
    "    if label_type == 'malignant':\n",
    "\n",
    "        df[df.Diagnosis == 1] = 0\n",
    "        df[df.Diagnosis != 0] = 1\n",
    "    elif label_type == 'source':\n",
    "        df = df[df.Diagnosis != 1]\n",
    "        df[df.Diagnosis == 2] = 0\n",
    "        df[df.Diagnosis == 3] = 1\n",
    "        \n",
    "    ID = df.id.to_numpy()\n",
    "    label = df.Diagnosis.to_numpy()\n",
    "    return ID, label\n",
    "\n",
    "\n",
    "path = \"D:\\\\GoogleDrive\\\\dataset\\\\radiology\\\\TCIA_LIDC-IDRI\\\\tcia-diagnosis-data-2012-04-20.csv\"\n",
    "test, d = get_lidc_label(path, label_type = 'source')\n",
    "    "
   ]
  },
  {
   "cell_type": "code",
   "execution_count": 30,
   "metadata": {},
   "outputs": [
    {
     "data": {
      "text/plain": [
       "51"
      ]
     },
     "execution_count": 30,
     "metadata": {},
     "output_type": "execute_result"
    }
   ],
   "source": [
    "d.sum()"
   ]
  },
  {
   "cell_type": "code",
   "execution_count": null,
   "metadata": {},
   "outputs": [],
   "source": []
  }
 ],
 "metadata": {
  "kernelspec": {
   "display_name": "Python 3",
   "language": "python",
   "name": "python3"
  },
  "language_info": {
   "codemirror_mode": {
    "name": "ipython",
    "version": 3
   },
   "file_extension": ".py",
   "mimetype": "text/x-python",
   "name": "python",
   "nbconvert_exporter": "python",
   "pygments_lexer": "ipython3",
   "version": "3.7.6"
  }
 },
 "nbformat": 4,
 "nbformat_minor": 4
}
