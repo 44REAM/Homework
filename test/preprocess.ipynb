{
 "cells": [
  {
   "cell_type": "code",
   "execution_count": 36,
   "metadata": {},
   "outputs": [],
   "source": [
    "%matplotlib inline\n",
    "\n",
    "import numpy as np \n",
    "import pandas as pd \n",
    "import pydicom\n",
    "import os\n",
    "import scipy.ndimage\n",
    "import matplotlib.pyplot as plt\n",
    "\n",
    "from skimage import measure, morphology"
   ]
  },
  {
   "cell_type": "code",
   "execution_count": 37,
   "metadata": {},
   "outputs": [],
   "source": [
    "def load_slices(path):\n",
    "    slices = [pydicom.dcmread(path + '\\\\' + s) for s in os.listdir(path) if s.endswith('dcm')]\n",
    "    slices = [s for s in slices if 'SliceLocation' in s]\n",
    "    slices.sort(key = lambda x: int(x.InstanceNumber))\n",
    "    try:\n",
    "        slice_thickness = np.abs(slices[0].ImagePositionPatient[2] -slices[1].ImagePositionPatient[2])\n",
    "    except:\n",
    "        slice_thickness = np.abs(slices[0].SliceLocation - slices[1].SliceLocation)\n",
    "    for s in slices:\n",
    "        s.SliceThickness = slice_thickness\n",
    "    return slices\n",
    "\n",
    "path = \"D:\\\\GoogleDrive\\\\dataset\\\\radiology\\\\TCIA_LIDC-IDRI\\\\LIDC-IDRI\\\\LIDC-IDRI-0001\\\\01-01-2000-30178\\\\3000566.000000-03192\"\n"
   ]
  },
  {
   "cell_type": "code",
   "execution_count": 56,
   "metadata": {},
   "outputs": [],
   "source": [
    "def get_slices_hounsfield(slices):\n",
    "    print('fds')\n",
    "    images = np.stack([s.pixel_array for s in slices])\n",
    "    images = images.astype(np.int16)\n",
    "    print('fds')\n",
    "    images[images == -2000] = 0\n",
    "    \n",
    "    intercept = slices[0].RescaleIntercept\n",
    "    slope = slices[0].RescaleSlope\n",
    "    \n",
    "    print('fds')\n",
    "\n",
    "    if slope != 1:\n",
    "        images = slope * images.astype(np.float64)\n",
    "        images = images.astype(np.int16)\n",
    "\n",
    "    images += np.int16(intercept)\n",
    "\n",
    "    return np.array(images, dtype=np.int16)"
   ]
  },
  {
   "cell_type": "code",
   "execution_count": 57,
   "metadata": {},
   "outputs": [
    {
     "name": "stdout",
     "output_type": "stream",
     "text": [
      "fds\n",
      "fds\n",
      "fds\n"
     ]
    }
   ],
   "source": [
    "slices = load_slices(path)\n",
    "images = get_slices_hounsfield(slices)"
   ]
  },
  {
   "cell_type": "code",
   "execution_count": 32,
   "metadata": {},
   "outputs": [
    {
     "data": {
      "text/plain": [
       "array([], dtype=int16)"
      ]
     },
     "execution_count": 32,
     "metadata": {},
     "output_type": "execute_result"
    }
   ],
   "source": [
    "image[image == -2000]"
   ]
  },
  {
   "cell_type": "code",
   "execution_count": 34,
   "metadata": {},
   "outputs": [
    {
     "data": {
      "text/plain": [
       "(0008, 0005) Specific Character Set              CS: 'ISO_IR 100'\n",
       "(0008, 0008) Image Type                          CS: ['ORIGINAL', 'PRIMARY', 'AXIAL']\n",
       "(0008, 0016) SOP Class UID                       UI: CT Image Storage\n",
       "(0008, 0018) SOP Instance UID                    UI: 1.3.6.1.4.1.14519.5.2.1.6279.6001.512235483218154065970649917292\n",
       "(0008, 0020) Study Date                          DA: '20000101'\n",
       "(0008, 0021) Series Date                         DA: '20000101'\n",
       "(0008, 0022) Acquisition Date                    DA: '20000101'\n",
       "(0008, 0023) Content Date                        DA: '20000101'\n",
       "(0008, 0024) Overlay Date                        DA: '20000101'\n",
       "(0008, 0025) Curve Date                          DA: '20000101'\n",
       "(0008, 002a) Acquisition DateTime                DT: '20000101'\n",
       "(0008, 0030) Study Time                          TM: ''\n",
       "(0008, 0032) Acquisition Time                    TM: ''\n",
       "(0008, 0033) Content Time                        TM: ''\n",
       "(0008, 0050) Accession Number                    SH: ''\n",
       "(0008, 0060) Modality                            CS: 'CT'\n",
       "(0008, 0070) Manufacturer                        LO: 'GE MEDICAL SYSTEMS'\n",
       "(0008, 0090) Referring Physician's Name          PN: ''\n",
       "(0008, 1090) Manufacturer's Model Name           LO: 'LightSpeed Plus'\n",
       "(0008, 1155) Referenced SOP Instance UID         UI: 1.3.6.1.4.1.14519.5.2.1.6279.6001.132124800179966742887841797605\n",
       "(0010, 0010) Patient's Name                      PN: ''\n",
       "(0010, 0020) Patient ID                          LO: 'LIDC-IDRI-0001'\n",
       "(0010, 0030) Patient's Birth Date                DA: ''\n",
       "(0010, 0040) Patient's Sex                       CS: ''\n",
       "(0010, 1010) Patient's Age                       AS: ''\n",
       "(0010, 21d0) Last Menstrual Date                 DA: '20000101'\n",
       "(0012, 0062) Patient Identity Removed            CS: 'YES'\n",
       "(0012, 0063) De-identification Method            LO: 'DCM:113100/113105/113107/113108/113109/113111'\n",
       "(0013, 0010) Private Creator                     LO: 'CTP'\n",
       "(0013, 1010) Private tag data                    LO: 'LIDC-IDRI'\n",
       "(0013, 1013) Private tag data                    LO: '62796001'\n",
       "(0018, 0010) Contrast/Bolus Agent                LO: 'IV'\n",
       "(0018, 0015) Body Part Examined                  CS: 'CHEST'\n",
       "(0018, 0022) Scan Options                        CS: 'HELICAL MODE'\n",
       "(0018, 0050) Slice Thickness                     DS: \"2.5\"\n",
       "(0018, 0060) KVP                                 DS: \"120.0\"\n",
       "(0018, 0090) Data Collection Diameter            DS: \"500.0\"\n",
       "(0018, 1020) Software Versions                   LO: 'LightSpeedApps2.4.2_H2.4M5'\n",
       "(0018, 1100) Reconstruction Diameter             DS: \"360.0\"\n",
       "(0018, 1110) Distance Source to Detector         DS: \"949.075012\"\n",
       "(0018, 1111) Distance Source to Patient          DS: \"541.0\"\n",
       "(0018, 1120) Gantry/Detector Tilt                DS: \"0.0\"\n",
       "(0018, 1130) Table Height                        DS: \"144.399994\"\n",
       "(0018, 1140) Rotation Direction                  CS: 'CW'\n",
       "(0018, 1150) Exposure Time                       IS: \"570\"\n",
       "(0018, 1151) X-Ray Tube Current                  IS: \"400\"\n",
       "(0018, 1152) Exposure                            IS: \"4684\"\n",
       "(0018, 1160) Filter Type                         SH: 'BODY FILTER'\n",
       "(0018, 1170) Generator Power                     IS: \"48000\"\n",
       "(0018, 1190) Focal Spot(s)                       DS: \"1.2\"\n",
       "(0018, 1210) Convolution Kernel                  SH: 'STANDARD'\n",
       "(0018, 5100) Patient Position                    CS: 'FFS'\n",
       "(0020, 000d) Study Instance UID                  UI: 1.3.6.1.4.1.14519.5.2.1.6279.6001.298806137288633453246975630178\n",
       "(0020, 000e) Series Instance UID                 UI: 1.3.6.1.4.1.14519.5.2.1.6279.6001.179049373636438705059720603192\n",
       "(0020, 0010) Study ID                            SH: ''\n",
       "(0020, 0011) Series Number                       IS: \"3000566\"\n",
       "(0020, 0013) Instance Number                     IS: \"2\"\n",
       "(0020, 0032) Image Position (Patient)            DS: [-166.000000, -171.699997, -12.500000]\n",
       "(0020, 0037) Image Orientation (Patient)         DS: [1.000000, 0.000000, 0.000000, 0.000000, 1.000000, 0.000000]\n",
       "(0020, 0052) Frame of Reference UID              UI: 1.3.6.1.4.1.14519.5.2.1.6279.6001.229925374658226729607867499499\n",
       "(0020, 1040) Position Reference Indicator        LO: 'SN'\n",
       "(0020, 1041) Slice Location                      DS: \"-12.5\"\n",
       "(0028, 0002) Samples per Pixel                   US: 1\n",
       "(0028, 0004) Photometric Interpretation          CS: 'MONOCHROME2'\n",
       "(0028, 0010) Rows                                US: 512\n",
       "(0028, 0011) Columns                             US: 512\n",
       "(0028, 0030) Pixel Spacing                       DS: [0.703125, 0.703125]\n",
       "(0028, 0100) Bits Allocated                      US: 16\n",
       "(0028, 0101) Bits Stored                         US: 16\n",
       "(0028, 0102) High Bit                            US: 15\n",
       "(0028, 0103) Pixel Representation                US: 1\n",
       "(0028, 0120) Pixel Padding Value                 US: 63536\n",
       "(0028, 0303) Longitudinal Temporal Information M CS: 'MODIFIED'\n",
       "(0028, 1050) Window Center                       DS: \"-600.0\"\n",
       "(0028, 1051) Window Width                        DS: \"1600.0\"\n",
       "(0028, 1052) Rescale Intercept                   DS: \"-1024.0\"\n",
       "(0028, 1053) Rescale Slope                       DS: \"1.0\"\n",
       "(0038, 0020) Admitting Date                      DA: '20000101'\n",
       "(0040, 0002) Scheduled Procedure Step Start Date DA: '20000101'\n",
       "(0040, 0004) Scheduled Procedure Step End Date   DA: '20000101'\n",
       "(0040, 0244) Performed Procedure Step Start Date DA: '20000101'\n",
       "(0040, 2016) Placer Order Number / Imaging Servi LO: ''\n",
       "(0040, 2017) Filler Order Number / Imaging Servi LO: ''\n",
       "(0040, a075) Verifying Observer Name             PN: 'Removed by CTP'\n",
       "(0040, a123) Person Name                         PN: 'Removed by CTP'\n",
       "(0040, a124) UID                                 UI: 1.3.6.1.4.1.14519.5.2.1.6279.6001.112986292812484044739954718987\n",
       "(0070, 0084) Content Creator's Name              PN: ''\n",
       "(0088, 0140) Storage Media File-set UID          UI: 1.3.6.1.4.1.14519.5.2.1.6279.6001.264489772529269958038112990521\n",
       "(7fe0, 0010) Pixel Data                          OW: Array of 524288 elements"
      ]
     },
     "execution_count": 34,
     "metadata": {},
     "output_type": "execute_result"
    }
   ],
   "source": [
    "slices[0]"
   ]
  },
  {
   "cell_type": "code",
   "execution_count": null,
   "metadata": {},
   "outputs": [],
   "source": []
  }
 ],
 "metadata": {
  "kernelspec": {
   "display_name": "Python 3",
   "language": "python",
   "name": "python3"
  },
  "language_info": {
   "codemirror_mode": {
    "name": "ipython",
    "version": 3
   },
   "file_extension": ".py",
   "mimetype": "text/x-python",
   "name": "python",
   "nbconvert_exporter": "python",
   "pygments_lexer": "ipython3",
   "version": "3.7.6"
  }
 },
 "nbformat": 4,
 "nbformat_minor": 4
}
