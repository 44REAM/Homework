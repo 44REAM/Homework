{
 "cells": [
  {
   "cell_type": "code",
   "execution_count": 1,
   "metadata": {},
   "outputs": [],
   "source": [
    "%load_ext autoreload\n",
    "%autoreload 2\n"
   ]
  },
  {
   "cell_type": "code",
   "execution_count": 19,
   "metadata": {},
   "outputs": [],
   "source": [
    "import sys\n",
    "import os\n",
    "sys.path.append('..')\n",
    "\n",
    "import torch\n",
    "import optuna\n",
    "import pytorch_lightning as pl\n",
    "\n",
    "from radianet.datasets import SampleDataset3D\n",
    "from radianet.config import Config\n",
    "from radianet.models import SimpleCNN\n",
    "from radianet.callbacks import MetricsCallback\n",
    "from radianet.lightningnet import LightningNet"
   ]
  },
  {
   "cell_type": "code",
   "execution_count": null,
   "metadata": {},
   "outputs": [
    {
     "name": "stderr",
     "output_type": "stream",
     "text": [
      "INFO:lightning:GPU available: True, used: False\n",
      "INFO:lightning:\n",
      "   | Name                       | Type        | Params\n",
      "-------------------------------------------------------\n",
      "0  | model                      | SimpleCNN   | 1 M   \n",
      "1  | model.conv_block           | Sequential  | 300   \n",
      "2  | model.conv_block.0         | Conv3d      | 280   \n",
      "3  | model.conv_block.1         | BatchNorm3d | 20    \n",
      "4  | model.conv_block.2         | ReLU        | 0     \n",
      "5  | model.conv_block.3         | MaxPool3d   | 0     \n",
      "6  | model.conv_block.4         | Dropout     | 0     \n",
      "7  | model.feedforward_block    | Sequential  | 1 M   \n",
      "8  | model.feedforward_block.0  | Linear      | 1 M   \n",
      "9  | model.feedforward_block.1  | ReLU        | 0     \n",
      "10 | model.feedforward_block.2  | Dropout     | 0     \n",
      "11 | model.feedforward_block.3  | Linear      | 2 K   \n",
      "12 | model.feedforward_block.4  | ReLU        | 0     \n",
      "13 | model.feedforward_block.5  | Dropout     | 0     \n",
      "14 | model.feedforward_block.6  | Linear      | 1 K   \n",
      "15 | model.feedforward_block.7  | ReLU        | 0     \n",
      "16 | model.feedforward_block.8  | Dropout     | 0     \n",
      "17 | model.feedforward_block.9  | Linear      | 14    \n",
      "18 | model.feedforward_block.10 | Sigmoid     | 0     \n"
     ]
    },
    {
     "data": {
      "application/vnd.jupyter.widget-view+json": {
       "model_id": "7014e15f3a374ae7a55804c9b18f70f8",
       "version_major": 2,
       "version_minor": 0
      },
      "text/plain": [
       "HBox(children=(FloatProgress(value=1.0, bar_style='info', description='Validation sanity check', layout=Layout…"
      ]
     },
     "metadata": {},
     "output_type": "display_data"
    },
    {
     "name": "stdout",
     "output_type": "stream",
     "text": [
      "\r"
     ]
    },
    {
     "data": {
      "application/vnd.jupyter.widget-view+json": {
       "model_id": "18b85c9433644af09481c329c502ffe6",
       "version_major": 2,
       "version_minor": 0
      },
      "text/plain": [
       "HBox(children=(FloatProgress(value=1.0, bar_style='info', description='Training', layout=Layout(flex='2'), max…"
      ]
     },
     "metadata": {},
     "output_type": "display_data"
    },
    {
     "data": {
      "application/vnd.jupyter.widget-view+json": {
       "model_id": "9fb777b46d034444940540ca67ab9644",
       "version_major": 2,
       "version_minor": 0
      },
      "text/plain": [
       "HBox(children=(FloatProgress(value=1.0, bar_style='info', description='Validating', layout=Layout(flex='2'), m…"
      ]
     },
     "metadata": {},
     "output_type": "display_data"
    },
    {
     "data": {
      "application/vnd.jupyter.widget-view+json": {
       "model_id": "24ce983eb8d54e4ea985b3bf7b08e2e6",
       "version_major": 2,
       "version_minor": 0
      },
      "text/plain": [
       "HBox(children=(FloatProgress(value=1.0, bar_style='info', description='Validating', layout=Layout(flex='2'), m…"
      ]
     },
     "metadata": {},
     "output_type": "display_data"
    },
    {
     "data": {
      "application/vnd.jupyter.widget-view+json": {
       "model_id": "2cc9a59fad4d42a4b14bd0183d31ecf4",
       "version_major": 2,
       "version_minor": 0
      },
      "text/plain": [
       "HBox(children=(FloatProgress(value=1.0, bar_style='info', description='Validating', layout=Layout(flex='2'), m…"
      ]
     },
     "metadata": {},
     "output_type": "display_data"
    },
    {
     "data": {
      "application/vnd.jupyter.widget-view+json": {
       "model_id": "00b851daa6fa457299bf7fc543c98405",
       "version_major": 2,
       "version_minor": 0
      },
      "text/plain": [
       "HBox(children=(FloatProgress(value=1.0, bar_style='info', description='Validating', layout=Layout(flex='2'), m…"
      ]
     },
     "metadata": {},
     "output_type": "display_data"
    },
    {
     "data": {
      "application/vnd.jupyter.widget-view+json": {
       "model_id": "5e81362148534ac98205bb66ffd1955e",
       "version_major": 2,
       "version_minor": 0
      },
      "text/plain": [
       "HBox(children=(FloatProgress(value=1.0, bar_style='info', description='Validating', layout=Layout(flex='2'), m…"
      ]
     },
     "metadata": {},
     "output_type": "display_data"
    },
    {
     "data": {
      "application/vnd.jupyter.widget-view+json": {
       "model_id": "f1e66c38f7f1494b95b1aa7dde1d5f67",
       "version_major": 2,
       "version_minor": 0
      },
      "text/plain": [
       "HBox(children=(FloatProgress(value=1.0, bar_style='info', description='Validating', layout=Layout(flex='2'), m…"
      ]
     },
     "metadata": {},
     "output_type": "display_data"
    },
    {
     "data": {
      "application/vnd.jupyter.widget-view+json": {
       "model_id": "f7b85da7008e41cebc1dc5ac5f63d43c",
       "version_major": 2,
       "version_minor": 0
      },
      "text/plain": [
       "HBox(children=(FloatProgress(value=1.0, bar_style='info', description='Validating', layout=Layout(flex='2'), m…"
      ]
     },
     "metadata": {},
     "output_type": "display_data"
    },
    {
     "data": {
      "application/vnd.jupyter.widget-view+json": {
       "model_id": "a44b549ec192497296d69a76ea89a485",
       "version_major": 2,
       "version_minor": 0
      },
      "text/plain": [
       "HBox(children=(FloatProgress(value=1.0, bar_style='info', description='Validating', layout=Layout(flex='2'), m…"
      ]
     },
     "metadata": {},
     "output_type": "display_data"
    }
   ],
   "source": [
    "config = Config\n",
    "\n",
    "def objective(trial):\n",
    "    \n",
    "    checkpoint_callback = pl.callbacks.ModelCheckpoint(\n",
    "        os.path.join(config.MODEL_DIR, \"trial_{}\".format(trial.number), \"{epoch}\"), \n",
    "        monitor=\"val_loss\", save_top_k = -1\n",
    "    )\n",
    "    metrics_callback = MetricsCallback()\n",
    "\n",
    "    trainer = pl.Trainer(\n",
    "        logger=False,\n",
    "        max_epochs=config.EPOCHS,\n",
    "        checkpoint_callback=checkpoint_callback,\n",
    "        callbacks=[metrics_callback],\n",
    "        gpus=0 if torch.cuda.is_available() else None\n",
    "    )\n",
    "\n",
    "    n_sample = 5\n",
    "    datasets = SampleDataset3D(n_sample = n_sample)\n",
    "    datasets = datasets.get_dataset()\n",
    "\n",
    "    lightning_model = LightningNet(trial, config, SimpleCNN, datasets)\n",
    "    trainer.fit(lightning_model)\n",
    "\n",
    "    return metrics_callback.metrics[-1][\"val_loss\"]\n",
    "\n",
    "study = optuna.create_study()\n",
    "study.optimize(objective, n_trials= config.N_TRIALS)\n"
   ]
  },
  {
   "cell_type": "code",
   "execution_count": 15,
   "metadata": {},
   "outputs": [
    {
     "name": "stdout",
     "output_type": "stream",
     "text": [
      "Number of finished trials: 5\n",
      "Best trial:\n",
      "  Value: 0.4275152087211609\n",
      "  Params: \n",
      "    n_fw_layers: 2\n",
      "    output_fw_dim0: 108.1097334448185\n",
      "    output_fw_dim1: 5.654177889007046\n",
      "    dropout: 0.2810253474408885\n",
      "    lr: 0.00012853161511888015\n"
     ]
    }
   ],
   "source": [
    "print(\"Number of finished trials: {}\".format(len(study.trials)))\n",
    "\n",
    "print(\"Best trial:\")\n",
    "trial = study.best_trial\n",
    "\n",
    "print(\"  Value: {}\".format(trial.value))\n",
    "print(\"  Params: \")\n",
    "for key, value in trial.params.items():\n",
    "    print(\"    {}: {}\".format(key, value))"
   ]
  },
  {
   "cell_type": "code",
   "execution_count": null,
   "metadata": {},
   "outputs": [],
   "source": []
  }
 ],
 "metadata": {
  "kernelspec": {
   "display_name": "Python 3",
   "language": "python",
   "name": "python3"
  },
  "language_info": {
   "codemirror_mode": {
    "name": "ipython",
    "version": 3
   },
   "file_extension": ".py",
   "mimetype": "text/x-python",
   "name": "python",
   "nbconvert_exporter": "python",
   "pygments_lexer": "ipython3",
   "version": "3.7.6"
  }
 },
 "nbformat": 4,
 "nbformat_minor": 4
}
